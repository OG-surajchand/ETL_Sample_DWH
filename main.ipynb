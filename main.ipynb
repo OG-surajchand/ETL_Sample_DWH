{
 "cells": [
  {
   "cell_type": "code",
   "execution_count": 162,
   "metadata": {},
   "outputs": [],
   "source": [
    "import snowflake.connector\n",
    "import csv\n",
    "import pandas as pd\n",
    "import random\n",
    "import numpy as np"
   ]
  },
  {
   "cell_type": "code",
   "execution_count": 2,
   "metadata": {},
   "outputs": [],
   "source": [
    "ctx = snowflake.connector.connect(\n",
    "    user='ssamichya',\n",
    "    password='Lisnepal@2021',\n",
    "    account='em35717.ap-south-1.aws',\n",
    "    )\n",
    "\n",
    "cursor = ctx.cursor()"
   ]
  },
  {
   "cell_type": "code",
   "execution_count": null,
   "metadata": {},
   "outputs": [],
   "source": [
    "cursor.execute(\"use BHATBHATENI_KEC_DWH_SURAJ.STG\")\n",
    "\n",
    "cursor.execute(\"create or replace table COUNTRYSTG(ID int NOT NULL, Country varchar(200))\")\n",
    "cursor.execute(\"create or replace table REGIONSTG(ID int NOT NULL, CountryID int, Region varchar(200))\")\n",
    "cursor.execute(\"create or replace table STORESTG(ID int NOT NULL, RegionID int, Store varchar(200))\")\n",
    "\n",
    "#Get Country, Region and Store from BHATBHATENI_KEC_SURAJ\n",
    "cursor.execute(\"use BHATBHATENI_KEC_SURAJ.TRANSACTIONS\")\n",
    "\n",
    "header_Country = [\"Id\", \"Country\"]\n",
    "header_Region = [\"Id\", \"CountryID\", \"Region\"]\n",
    "header_Store = [\"ID\", \"RegionID\", \"Store\"]\n",
    "\n",
    "cursor.execute(\"select * from COUNTRY\")\n",
    "result = cursor.fetchall()\n",
    "\n",
    "f = csv.writer(open('E:/Country.csv', 'w', newline=''))\n",
    "f.writerow(header_Country)\n",
    "for y in result:\n",
    "    f.writerow(y)\n",
    "\n",
    "cursor.execute(\"select * from REGION\")\n",
    "result = cursor.fetchall()\n",
    "\n",
    "writer = csv.writer(open('E:/Region.csv', 'w',newline=''))\n",
    "writer.writerow(header_Region)\n",
    "for row in result:\n",
    "    writer.writerow(row)\n",
    "\n",
    "cursor.execute(\"select * from STORE\")\n",
    "result = cursor.fetchall()\n",
    "\n",
    "f = csv.writer(open('E:/Store.csv', 'w', newline=''))\n",
    "f.writerow(header_Store)\n",
    "for row in result:\n",
    "    f.writerow(row)\n",
    "\n",
    "\n",
    "#Load Data from CSV to Staging Tables\n",
    "\n",
    "#CountrySTG\n",
    "data_country = pd.read_csv(\"E:/Country.csv\")\n",
    "\n",
    "cursor.execute(\"use BHATBHATENI_KEC_DWH_SURAJ.STG;\")\n",
    "for i, row in data_country.iterrows():\n",
    "    query = \"insert into CountrySTG values(%s,%s)\"\n",
    "    cursor.execute(query,tuple(row))"
   ]
  },
  {
   "cell_type": "code",
   "execution_count": 9,
   "metadata": {},
   "outputs": [],
   "source": [
    "#RegionSTG\n",
    "data_region = pd.read_csv(\"E:/Region.csv\")\n",
    "for i, row in data_region.iterrows():\n",
    "    query = \"insert into RegionSTG values(%s,%s,%s)\"\n",
    "    cursor.execute(query,tuple(row))"
   ]
  },
  {
   "cell_type": "code",
   "execution_count": 10,
   "metadata": {},
   "outputs": [],
   "source": [
    "#StoreSTG\n",
    "data_store = pd.read_csv(\"E:/Store.csv\")\n",
    "for i, row in data_store.iterrows():\n",
    "    query = \"insert into StoreSTG values(%s,%s,%s)\"\n",
    "    cursor.execute(query,tuple(row))"
   ]
  },
  {
   "cell_type": "code",
   "execution_count": 114,
   "metadata": {},
   "outputs": [],
   "source": [
    "cursor.execute(\"use BHATBHATENI_KEC_DWH_SURAJ.STG;\")\n",
    "hierarchy_query = \"with LocationCTE AS(select CountrySTG.ID as CountryID,Country, Region,StoreSTG.ID as StoreID ,Store from CountrySTG inner join RegionSTG  on CountrySTG.ID = RegionSTG.CountryId inner join StoreSTG  on RegionSTG.ID = StoreSTG.REGIONID)select * from LocationCTE;\"\n",
    "cursor.execute(hierarchy_query)\n",
    "result = cursor.fetchall()\n",
    "writer = csv.writer(open('E:/Location_Hierarchy.csv','w'))\n",
    "writer.writerow([\"ID\",\"Country\",\"Region\",\"StoreID\",\"Store\"])\n",
    "for row in result:\n",
    "    writer.writerow(row)"
   ]
  },
  {
   "cell_type": "code",
   "execution_count": 129,
   "metadata": {},
   "outputs": [
    {
     "data": {
      "text/plain": [
       "<snowflake.connector.cursor.SnowflakeCursor at 0x269b3652cb0>"
      ]
     },
     "execution_count": 129,
     "metadata": {},
     "output_type": "execute_result"
    }
   ],
   "source": [
    "cursor.execute(\"use BHATBHATENI_KEC_DWH_SURAJ.TMP;\")"
   ]
  },
  {
   "cell_type": "code",
   "execution_count": 116,
   "metadata": {},
   "outputs": [
    {
     "data": {
      "text/plain": [
       "<snowflake.connector.cursor.SnowflakeCursor at 0x269b3652cb0>"
      ]
     },
     "execution_count": 116,
     "metadata": {},
     "output_type": "execute_result"
    }
   ],
   "source": [
    "cursor.execute(\"create or replace table LocationTMP(ID int NOT NULL, Country varchar(50), Region varchar(50), StoreID int ,Store varchar(50))\")"
   ]
  },
  {
   "cell_type": "code",
   "execution_count": 117,
   "metadata": {},
   "outputs": [],
   "source": [
    "data_location = pd.read_csv(\"E:/Location_Hierarchy.csv\")\n",
    "for i,row in data_location.iterrows():\n",
    "    cursor.execute(\"insert into LocationTMP values(%s,%s,%s,%s,%s)\",tuple(row))"
   ]
  },
  {
   "cell_type": "code",
   "execution_count": 118,
   "metadata": {},
   "outputs": [
    {
     "data": {
      "text/plain": [
       "<snowflake.connector.cursor.SnowflakeCursor at 0x269b3652cb0>"
      ]
     },
     "execution_count": 118,
     "metadata": {},
     "output_type": "execute_result"
    }
   ],
   "source": [
    "cursor.execute(\"use BHATBHATENI_KEC_DWH_SURAJ.TGT;\")\n"
   ]
  },
  {
   "cell_type": "code",
   "execution_count": 126,
   "metadata": {},
   "outputs": [
    {
     "data": {
      "text/plain": [
       "<snowflake.connector.cursor.SnowflakeCursor at 0x269b3652cb0>"
      ]
     },
     "execution_count": 126,
     "metadata": {},
     "output_type": "execute_result"
    }
   ],
   "source": [
    "cursor.execute(\"create or replace table LocationTGT(ID int, Country varchar(50), Region varchar(50), StoreID int,Store varchar(50), start_date date, end_date date, Active char(1),RCD_INS_TS TIMESTAMP_LTZ(9), RCD_UPD_TS TIMESTAMP_LTZ(9))\")"
   ]
  },
  {
   "cell_type": "code",
   "execution_count": 120,
   "metadata": {},
   "outputs": [],
   "source": [
    "data_to_stg = pd.read_csv(\"E:/Location_Hierarchy.csv\")"
   ]
  },
  {
   "cell_type": "code",
   "execution_count": 121,
   "metadata": {},
   "outputs": [],
   "source": [
    "import datetime\n",
    "ts = datetime.datetime.now()"
   ]
  },
  {
   "cell_type": "code",
   "execution_count": 103,
   "metadata": {},
   "outputs": [],
   "source": [
    "def get_start_date():\n",
    "    start = \"2020-01-01\"\n",
    "    end = \"2021-06-01\"\n",
    "    array_start = start.split(\"-\")\n",
    "    array_end = end.split(\"-\")\n",
    "    start_date = str(random.randint(int(array_start[0]),int(array_end[0]))) + \"-\" + str(random.randint(int(array_start[1]),int(array_end[1]))).zfill(2) + \"-\" + str(random.randint(int(array_start[2]),int(array_end[2]))).zfill(2)\n",
    "    return  start_date"
   ]
  },
  {
   "cell_type": "code",
   "execution_count": 196,
   "metadata": {},
   "outputs": [],
   "source": [
    "def get_end_date(id):\n",
    "    if check_if_active(id) == 'Y':\n",
    "          start = \"2022-05-01\"\n",
    "          end = \"2030-12-30\"\n",
    "          array_start = start.split(\"-\")\n",
    "          array_end = end.split(\"-\")\n",
    "          end_date = str(random.randint(int(array_start[0]),int(array_end[0]))) + \"-\" + str(random.randint(int(array_start[1]),int(array_end[1]))).zfill(2) + \"-\" + str(random.randint(int(array_start[2]),int(array_end[2]))).zfill(2)\n",
    "          return  end_date\n",
    "    else:\n",
    "        return datetime.date.today()"
   ]
  },
  {
   "cell_type": "code",
   "execution_count": 193,
   "metadata": {},
   "outputs": [],
   "source": [
    "def check_if_active(id):\n",
    "    cursor.execute(\"select StoreID from BHATBHATENI_KEC_DWH_SURAJ.TMP.LocationTMP Where exists(select ID from BHATBHATENI_KEC_DWH_SURAJ.STG.StoreSTG);\")\n",
    "    result = cursor.fetchall()\n",
    "    result_list = []\n",
    "    activ = 'Y'\n",
    "    for i in result:\n",
    "        b = list(i)\n",
    "        result_list.append(i)\n",
    "    result_list = np.array(result_list)\n",
    "    result = result_list.flatten()\n",
    "    for i in result:\n",
    "        if i == id:\n",
    "            activ =  'Y'\n",
    "            break\n",
    "        else:\n",
    "            activ = 'N'  \n",
    "    return activ"
   ]
  },
  {
   "cell_type": "code",
   "execution_count": 197,
   "metadata": {},
   "outputs": [],
   "source": [
    "for index, row in data_to_stg.iterrows():\n",
    "    cursor.execute(\"use BHATBHATENI_KEC_DWH_SURAJ.TGT;\")\n",
    "    query = \"insert into LocationTGT values(%s,%s,%s,%s,%s,%s,%s,%s,%s,%s)\"\n",
    "    storeid = row.StoreID\n",
    "    cursor.execute(query,(index+1, row.Country, row.Region, storeid,row.Store, get_start_date(), get_end_date(storeid), check_if_active(storeid), ts, ts))"
   ]
  }
 ],
 "metadata": {
  "interpreter": {
   "hash": "54753950fb084e81360fac2b18d34b2576a56b673f223554b816d639be0d6a65"
  },
  "kernelspec": {
   "display_name": "Python 3.10.0 64-bit",
   "language": "python",
   "name": "python3"
  },
  "language_info": {
   "codemirror_mode": {
    "name": "ipython",
    "version": 3
   },
   "file_extension": ".py",
   "mimetype": "text/x-python",
   "name": "python",
   "nbconvert_exporter": "python",
   "pygments_lexer": "ipython3",
   "version": "3.10.0"
  },
  "orig_nbformat": 4
 },
 "nbformat": 4,
 "nbformat_minor": 2
}
